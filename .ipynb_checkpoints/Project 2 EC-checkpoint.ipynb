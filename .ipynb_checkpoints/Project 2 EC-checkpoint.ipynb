{
 "cells": [
  {
   "cell_type": "code",
   "execution_count": 1,
   "id": "0cbc5c1b",
   "metadata": {
    "ExecuteTime": {
     "end_time": "2023-03-01T17:02:45.266361Z",
     "start_time": "2023-03-01T17:02:44.190352Z"
    }
   },
   "outputs": [],
   "source": [
    "import numpy as np\n",
    "import math as m\n",
    "from matplotlib import pyplot as plt\n",
    "import random as r\n",
    "from  matplotlib.animation import FuncAnimation\n",
    "import sys\n",
    "import stats\n",
    "import pickle\n",
    "from scipy import interpolate"
   ]
  },
  {
   "cell_type": "code",
   "execution_count": 2,
   "id": "164b10cf",
   "metadata": {
    "ExecuteTime": {
     "end_time": "2023-03-01T17:02:45.878352Z",
     "start_time": "2023-03-01T17:02:45.870349Z"
    },
    "code_folding": [
     1
    ]
   },
   "outputs": [],
   "source": [
    "## Takes array of data and returns it window averaged\n",
    "def rolling_avg(arr, window):\n",
    "    to_return = []\n",
    "    for i in range(len(arr)):\n",
    "        lower = int(i-window/2)\n",
    "        upper = int(i+window/2)\n",
    "        if lower < 0: lower = 0\n",
    "        if upper >= len(arr): upper = len(arr)-1\n",
    "        to_return.append(sum(arr[lower:upper])/(upper-lower))          \n",
    "    return to_return"
   ]
  },
  {
   "cell_type": "code",
   "execution_count": 3,
   "id": "2c738ab9",
   "metadata": {
    "ExecuteTime": {
     "end_time": "2023-03-01T17:02:46.658386Z",
     "start_time": "2023-03-01T17:02:46.626351Z"
    }
   },
   "outputs": [],
   "source": [
    "class Metropolis():\n",
    "    \n",
    "    def __init__(self, L, T=1, initial_state=0, B=False):\n",
    "        if type(initial_state)==int:\n",
    "            self.grid = np.ones(shape=[L, L])\n",
    "            for i in range(L):\n",
    "                self.grid[i] = np.random.choice([-1, 1], size=L)\n",
    "        else:\n",
    "            self.grid = initial_state\n",
    "        self.L = L\n",
    "        self.T = T\n",
    "        self.B = 1/T\n",
    "        if B:\n",
    "            self.T = self.B\n",
    "            self.B = T\n",
    "        self.N = L*L\n",
    "        self.energy = self.calc_energy()\n",
    "        self.energy_history = [self.energy]\n",
    "        self.grid_history = [np.copy(self.grid)]\n",
    "        self.M_history = [np.sum(self.grid)]\n",
    "        \n",
    "        # This is for a L x L lattice\n",
    "        x,y=np.indices((L,L))\n",
    "        red=np.logical_and((x+y) % 2==0   , np.logical_and(x<L-1,y<L-1))\n",
    "        red[L-1,L-1]=True\n",
    "        blue=np.logical_and((x+y) % 2==1   , np.logical_and(x<L-1,y<L-1))\n",
    "        green=np.logical_and((x+y) % 2==0   , np.logical_or(x==L-1,y==L-1))\n",
    "        green[L-1,L-1]=False\n",
    "        yellow=np.logical_and((x+y) % 2==1   , np.logical_or(x==L-1,y==L-1))\n",
    "        self.red = red\n",
    "        self.blue = blue\n",
    "        self.green = green\n",
    "        self.yellow = yellow\n",
    "        self.colors = [red, blue, green, yellow]\n",
    "        \n",
    "        self.J_right = np.ones(shape=[L, L])\n",
    "        self.J_up = np.ones(shape=[L,L])\n",
    "        for i in range(L):\n",
    "            self.J_right[i] = np.random.choice([-1, 1], size=L)\n",
    "            self.J_up[i] = np.random.choice([-1, 1], size=L)\n",
    "        return\n",
    "    \n",
    "    def P(self, E):\n",
    "        try:\n",
    "            return m.exp(-self.B*E)\n",
    "        except:\n",
    "            print(f\"E = {-self.B*E}\")\n",
    "            raise Exception(\"E too big for m.exp()\")\n",
    "    \n",
    "    def run(self, sweeps, to_print=False):\n",
    "        for sweep in range(sweeps):\n",
    "            for color in self.colors:\n",
    "                delta_Es = self.find_delta_Es(color)\n",
    "                to_flip = np.random.random(size=delta_Es.shape) < 1/(1+np.exp(self.B*delta_Es))\n",
    "                self.grid[color] = [-spin if flip else spin for spin, flip in zip(self.grid[color], to_flip)]\n",
    "                self.energy += np.sum(delta_Es*to_flip)\n",
    "            self.energy_history.append(self.energy)\n",
    "            self.M_history.append(np.sum(self.grid))\n",
    "            self.grid_history.append(np.copy(self.grid))\n",
    "        return self.grid\n",
    "    \n",
    "    def find_delta_Es(self, color):\n",
    "        orig = self.grid[color]\n",
    "        delta_Es = np.zeros(shape=self.grid[color].shape)\n",
    "        delta_Es += 2*orig * np.roll(self.grid, 1, axis=0)[color] * self.J_up[color]\n",
    "        delta_Es += 2*orig * np.roll(self.grid, -1, axis=0)[color] * np.roll(self.J_up, -1, axis=0)[color]\n",
    "        delta_Es += 2*orig * np.roll(self.grid, 1, axis=1)[color] * np.roll(self.J_right, 1, axis=0)[color]\n",
    "        delta_Es += 2*orig * np.roll(self.grid, -1, axis=1)[color] * self.J_right[color]\n",
    "        return delta_Es\n",
    "    \n",
    "    def flip_point(self, pt):\n",
    "        delta_e = self.grid[pt]\n",
    "        \n",
    "    def left(self, point):\n",
    "        if point[1] == 0:\n",
    "            return [point[0], self.L-1]\n",
    "        return [point[0], point[1]-1]\n",
    "    \n",
    "    def right(self, point):\n",
    "        if point[1] == self.L-1:\n",
    "            return [point[0], 0]\n",
    "        return [point[0], point[1]+1]\n",
    "    \n",
    "    def up(self, point):\n",
    "        if point[0] == 0:\n",
    "            return [self.L-1, point[1]]\n",
    "        return [point[0]-1, point[1]]\n",
    "    \n",
    "    def down(self, point):\n",
    "        if point[0] == self.L-1:\n",
    "            return [0, point[1]]\n",
    "        return [point[0]+1, point[1]]\n",
    "    \n",
    "    def calc_energy(self, grid=0):\n",
    "        if type(grid) == int: grid = self.grid\n",
    "        energy = 0\n",
    "        for y in range(self.L):\n",
    "            for x in range(self.L):\n",
    "                energy += grid[y, x] * self.E_up((y, x))\n",
    "        return int(energy)\n",
    "    \n",
    "    def E_up(self, pt, grid=0, point=False):\n",
    "        if type(grid) == int: grid = self.grid\n",
    "        e = 0\n",
    "        e += -grid[self.up(pt)[0], self.up(pt)[1]] * self.J_up\n",
    "        e += -grid[self.right(pt)[0], self.right(pt)[1]] * \n",
    "        if point:\n",
    "            e += -grid[self.down(pt)[0], self.down(pt)[1]]\n",
    "            e += -grid[self.left(pt)[0], self.left(pt)[1]]\n",
    "        return e\n",
    "    \n",
    "    def get_grid(self):\n",
    "        return self.grid\n",
    "    \n",
    "    def get_energy_history(self):\n",
    "        return self.energy_history\n",
    "    \n",
    "    def get_grid_history(self):\n",
    "        return self.grid_history\n",
    "    \n",
    "    def get_M_history(self):\n",
    "        return self.M_history"
   ]
  },
  {
   "cell_type": "code",
   "execution_count": null,
   "id": "167c5d09",
   "metadata": {},
   "outputs": [],
   "source": [
    "def run_simulated_annealing(Bs):\n",
    "    "
   ]
  }
 ],
 "metadata": {
  "kernelspec": {
   "display_name": "Python 3 (ipykernel)",
   "language": "python",
   "name": "python3"
  },
  "language_info": {
   "codemirror_mode": {
    "name": "ipython",
    "version": 3
   },
   "file_extension": ".py",
   "mimetype": "text/x-python",
   "name": "python",
   "nbconvert_exporter": "python",
   "pygments_lexer": "ipython3",
   "version": "3.9.13"
  },
  "varInspector": {
   "cols": {
    "lenName": 16,
    "lenType": 16,
    "lenVar": 40
   },
   "kernels_config": {
    "python": {
     "delete_cmd_postfix": "",
     "delete_cmd_prefix": "del ",
     "library": "var_list.py",
     "varRefreshCmd": "print(var_dic_list())"
    },
    "r": {
     "delete_cmd_postfix": ") ",
     "delete_cmd_prefix": "rm(",
     "library": "var_list.r",
     "varRefreshCmd": "cat(var_dic_list()) "
    }
   },
   "types_to_exclude": [
    "module",
    "function",
    "builtin_function_or_method",
    "instance",
    "_Feature"
   ],
   "window_display": false
  }
 },
 "nbformat": 4,
 "nbformat_minor": 5
}
