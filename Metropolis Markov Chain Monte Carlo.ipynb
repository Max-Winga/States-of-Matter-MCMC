{
 "cells": [
  {
   "cell_type": "code",
   "execution_count": 29,
   "id": "0cbc5c1b",
   "metadata": {
    "ExecuteTime": {
     "end_time": "2023-02-13T17:33:48.519367Z",
     "start_time": "2023-02-13T17:33:48.499368Z"
    }
   },
   "outputs": [],
   "source": [
    "import numpy as np\n",
    "import math as m\n",
    "from matplotlib import pyplot as plt\n",
    "import random as r"
   ]
  },
  {
   "cell_type": "code",
   "execution_count": 42,
   "id": "2c738ab9",
   "metadata": {
    "ExecuteTime": {
     "end_time": "2023-02-13T17:38:52.678008Z",
     "start_time": "2023-02-13T17:38:52.658006Z"
    }
   },
   "outputs": [],
   "source": [
    "class Metropolis():\n",
    "    \n",
    "    def __init__(self, size, T=1, initial_state=0):\n",
    "        if initial_state==0:\n",
    "            self.grid = np.ones(size)\n",
    "        else:\n",
    "            self.grid = initial_state\n",
    "        self.size = size\n",
    "        self.T = T\n",
    "    \n",
    "    def run(self, n):\n",
    "        e1 = self.calc_energy()\n",
    "        for i in range(n):\n",
    "            x = np.random.randint(0, self.size[1])\n",
    "            y = np.random.randint(0, self.size[0])\n",
    "            self.grid[y, x]*-1\n",
    "            e2 = self.calc_energy()\n",
    "            print(f\"e1 = {e1}, e2 = {e2}\")\n",
    "            prob = m.exp(-(1/self.T)*(e2-e1))\n",
    "            print(f\"prob = {prob}\")\n",
    "            if r.random() > prob:\n",
    "                self.grid[y, x]*-1\n",
    "                continue\n",
    "            e1 = e2\n",
    "        return\n",
    "            \n",
    "    def calc_energy(self, grid=0):\n",
    "        if type(grid) == int: grid = self.grid\n",
    "        energy = 0\n",
    "        vbonds = self.build_vbond_array(grid)\n",
    "        hbonds = self.build_hbond_array(grid)\n",
    "        for y in range(self.size[0]):\n",
    "            for x in range(self.size[1]):\n",
    "                energy += vbonds[y, x] + hbonds[y, x]\n",
    "        return energy\n",
    "    \n",
    "    def build_vbond_array(self, grid=0):\n",
    "        if type(grid) == int: grid = self.grid\n",
    "        vbond_array = np.zeros(self.size)\n",
    "        for x in range(self.size[1]):\n",
    "            vbond_array[0, x] = -self.grid[0,x]*self.grid[self.size[0]-1, x]\n",
    "        for y in range(1, self.size[0]):\n",
    "            for x in range(self.size[1]):\n",
    "                vbond_array[y, x] = -self.grid[y,x]*self.grid[y-1, x]\n",
    "        return vbond_array\n",
    "    \n",
    "    def build_hbond_array(self, grid=0):\n",
    "        if type(grid) == int: grid = self.grid\n",
    "        hbond_array = np.zeros(self.size)\n",
    "        for y in range(self.size[0]):\n",
    "            hbond_array[y, 0] = -self.grid[y,0]*self.grid[y, self.size[1]-1]\n",
    "        for y in range(self.size[0]):\n",
    "            for x in range(1, self.size[1]):\n",
    "                hbond_array[y, x] = -self.grid[y,x]*self.grid[y, x-1]\n",
    "        return hbond_array\n",
    "        \n",
    "    def flip_bit(self, bit):\n",
    "        bit = int(bit)\n",
    "        if bit == 0:\n",
    "            return 1\n",
    "        return 0\n",
    "    \n",
    "    def get_grid(self):\n",
    "        return self.grid"
   ]
  },
  {
   "cell_type": "code",
   "execution_count": 41,
   "id": "ae66fded",
   "metadata": {
    "ExecuteTime": {
     "end_time": "2023-02-13T17:38:04.639454Z",
     "start_time": "2023-02-13T17:38:04.351454Z"
    },
    "code_folding": []
   },
   "outputs": [
    {
     "name": "stdout",
     "output_type": "stream",
     "text": [
      "-18.0\n"
     ]
    },
    {
     "data": {
      "text/plain": [
       "<Figure size 640x480 with 0 Axes>"
      ]
     },
     "metadata": {},
     "output_type": "display_data"
    },
    {
     "data": {
      "image/png": "[encoded data removed]",
      "text/plain": [
       "<Figure size 480x480 with 1 Axes>"
      ]
     },
     "metadata": {},
     "output_type": "display_data"
    },
    {
     "name": "stdout",
     "output_type": "stream",
     "text": [
      "-18.0\n"
     ]
    },
    {
     "data": {
      "text/plain": [
       "<Figure size 640x480 with 0 Axes>"
      ]
     },
     "metadata": {},
     "output_type": "display_data"
    },
    {
     "data": {
      "image/png": "[encoded data removed]",
      "text/plain": [
       "<Figure size 480x480 with 1 Axes>"
      ]
     },
     "metadata": {},
     "output_type": "display_data"
    }
   ],
   "source": [
    "test_metro = Metropolis([3, 3])\n",
    "print(test_metro.calc_energy())\n",
    "plt.figure()\n",
    "plt.matshow(test_metro.get_grid())\n",
    "plt.show()\n",
    "\n",
    "test_metro.run(10)\n",
    "print(test_metro.calc_energy())\n",
    "plt.figure()\n",
    "plt.matshow(test_metro.get_grid())\n",
    "plt.show()\n"
   ]
  },
  {
   "cell_type": "code",
   "execution_count": null,
   "id": "0897e27f",
   "metadata": {},
   "outputs": [],
   "source": []
  }
 ],
 "metadata": {
  "kernelspec": {
   "display_name": "Python 3 (ipykernel)",
   "language": "python",
   "name": "python3"
  },
  "language_info": {
   "codemirror_mode": {
    "name": "ipython",
    "version": 3
   },
   "file_extension": ".py",
   "mimetype": "text/x-python",
   "name": "python",
   "nbconvert_exporter": "python",
   "pygments_lexer": "ipython3",
   "version": "3.9.13"
  },
  "varInspector": {
   "cols": {
    "lenName": 16,
    "lenType": 16,
    "lenVar": 40
   },
   "kernels_config": {
    "python": {
     "delete_cmd_postfix": "",
     "delete_cmd_prefix": "del ",
     "library": "var_list.py",
     "varRefreshCmd": "print(var_dic_list())"
    },
    "r": {
     "delete_cmd_postfix": ") ",
     "delete_cmd_prefix": "rm(",
     "library": "var_list.r",
     "varRefreshCmd": "cat(var_dic_list()) "
    }
   },
   "types_to_exclude": [
    "module",
    "function",
    "builtin_function_or_method",
    "instance",
    "_Feature"
   ],
   "window_display": false
  }
 },
 "nbformat": 4,
 "nbformat_minor": 5
}
